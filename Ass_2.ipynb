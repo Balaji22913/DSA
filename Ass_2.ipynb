{
 "cells": [
  {
   "cell_type": "code",
   "execution_count": 1,
   "id": "34eadd23-505a-4ba0-bb5f-6f2e95fa1157",
   "metadata": {},
   "outputs": [],
   "source": [
    "def arrayPairSum(nums):\n",
    "    nums.sort()\n",
    "    max_sum = 0\n",
    "    for i in range(0, len(nums), 2):\n",
    "        max_sum += nums[i]\n",
    "    return max_sum"
   ]
  },
  {
   "cell_type": "code",
   "execution_count": 2,
   "id": "82816682-5591-41a5-ad88-ee07b5da624e",
   "metadata": {},
   "outputs": [
    {
     "name": "stdout",
     "output_type": "stream",
     "text": [
      "4\n"
     ]
    }
   ],
   "source": [
    "nums = [1, 4, 3, 2]\n",
    "print(arrayPairSum(nums))"
   ]
  },
  {
   "cell_type": "code",
   "execution_count": null,
   "id": "fac1322c-7b29-4b58-bb9c-379204aae357",
   "metadata": {},
   "outputs": [],
   "source": []
  },
  {
   "cell_type": "code",
   "execution_count": null,
   "id": "ef737248-6fe9-40aa-a1d5-eafdf2b9dc08",
   "metadata": {},
   "outputs": [],
   "source": []
  },
  {
   "cell_type": "code",
   "execution_count": null,
   "id": "aa55e8ea-ac08-4828-affc-87b1db0b26be",
   "metadata": {},
   "outputs": [],
   "source": []
  },
  {
   "cell_type": "code",
   "execution_count": null,
   "id": "1206445a-d5ab-43ed-b3e8-4ffe997643df",
   "metadata": {},
   "outputs": [],
   "source": []
  },
  {
   "cell_type": "code",
   "execution_count": 3,
   "id": "f672fb7e-c0bf-4ae9-91ca-449cd6482f65",
   "metadata": {},
   "outputs": [],
   "source": [
    "def maxCandies(candyType):\n",
    "    unique_types = set()\n",
    "    for candy in candyType:\n",
    "        unique_types.add(candy)\n",
    "    limit = len(candyType) // 2\n",
    "    return min(len(unique_types), limit)"
   ]
  },
  {
   "cell_type": "code",
   "execution_count": 4,
   "id": "482d8519-eda8-4fec-98ac-18eba60ae080",
   "metadata": {},
   "outputs": [
    {
     "name": "stdout",
     "output_type": "stream",
     "text": [
      "3\n"
     ]
    }
   ],
   "source": [
    "candyType = [1, 1, 2, 2, 3, 3]\n",
    "print(maxCandies(candyType))"
   ]
  },
  {
   "cell_type": "code",
   "execution_count": null,
   "id": "6f538fcf-4803-4cc0-9c6c-8c9aad9f027e",
   "metadata": {},
   "outputs": [],
   "source": []
  },
  {
   "cell_type": "code",
   "execution_count": null,
   "id": "d245b524-10e1-48f3-bac6-99b46a346b76",
   "metadata": {},
   "outputs": [],
   "source": []
  },
  {
   "cell_type": "code",
   "execution_count": null,
   "id": "eb005a2d-65dd-4710-84b4-27af119a5422",
   "metadata": {},
   "outputs": [],
   "source": []
  },
  {
   "cell_type": "code",
   "execution_count": null,
   "id": "ff215995-b432-4856-9e2e-ac78426e04c0",
   "metadata": {},
   "outputs": [],
   "source": []
  },
  {
   "cell_type": "code",
   "execution_count": 5,
   "id": "21184cc5-6f7b-4b26-baee-955e3b0f69ed",
   "metadata": {},
   "outputs": [],
   "source": [
    "def findLHS(nums):\n",
    "    count_map = {}\n",
    "    for num in nums:\n",
    "        count_map[num] = count_map.get(num, 0) + 1\n",
    "\n",
    "    max_length = 0\n",
    "    for num in nums:\n",
    "        if num + 1 in count_map:\n",
    "            length = count_map[num] + count_map[num + 1]\n",
    "            max_length = max(max_length, length)\n",
    "\n",
    "    return max_length"
   ]
  },
  {
   "cell_type": "code",
   "execution_count": 6,
   "id": "1310bcf8-c983-46c2-b0a4-1cbb8531a197",
   "metadata": {},
   "outputs": [
    {
     "name": "stdout",
     "output_type": "stream",
     "text": [
      "5\n"
     ]
    }
   ],
   "source": [
    "nums = [1, 3, 2, 2, 5, 2, 3, 7]\n",
    "print(findLHS(nums))"
   ]
  },
  {
   "cell_type": "code",
   "execution_count": null,
   "id": "148e8149-a600-42e9-bf83-e88119ea5f5f",
   "metadata": {},
   "outputs": [],
   "source": []
  },
  {
   "cell_type": "code",
   "execution_count": null,
   "id": "19225e26-9625-4de1-af7b-6f5537459c78",
   "metadata": {},
   "outputs": [],
   "source": []
  },
  {
   "cell_type": "code",
   "execution_count": null,
   "id": "ffc8c20f-dfc4-4cc9-a7fd-29165838764f",
   "metadata": {},
   "outputs": [],
   "source": []
  },
  {
   "cell_type": "code",
   "execution_count": null,
   "id": "870eba0e-a696-42ed-af6a-01a29c828d3d",
   "metadata": {},
   "outputs": [],
   "source": []
  },
  {
   "cell_type": "code",
   "execution_count": 7,
   "id": "8d0af0e9-0438-45c7-b482-9a39e19a5a76",
   "metadata": {},
   "outputs": [],
   "source": [
    "def canPlaceFlowers(flowerbed, n):\n",
    "    count = 0\n",
    "    i = 0\n",
    "    while i < len(flowerbed):\n",
    "        if (\n",
    "            flowerbed[i] == 0 and \n",
    "            (i == 0 or flowerbed[i - 1] == 0) and \n",
    "            (i == len(flowerbed) - 1 or flowerbed[i + 1] == 0)\n",
    "        ):\n",
    "            count += 1\n",
    "            flowerbed[i] = 1\n",
    "            i += 2\n",
    "        else:\n",
    "            i += 1\n",
    "    return count >= n"
   ]
  },
  {
   "cell_type": "code",
   "execution_count": 8,
   "id": "ab130aa6-2590-4732-a481-35e7dfc6e30a",
   "metadata": {},
   "outputs": [
    {
     "name": "stdout",
     "output_type": "stream",
     "text": [
      "True\n"
     ]
    }
   ],
   "source": [
    "flowerbed = [1, 0, 0, 0, 1]\n",
    "n = 1\n",
    "print(canPlaceFlowers(flowerbed, n))"
   ]
  },
  {
   "cell_type": "code",
   "execution_count": null,
   "id": "f76b4140-51c6-4e83-9c76-e60918f9cf39",
   "metadata": {},
   "outputs": [],
   "source": []
  },
  {
   "cell_type": "code",
   "execution_count": null,
   "id": "2d5ac651-9143-48aa-99a8-c6b06536771c",
   "metadata": {},
   "outputs": [],
   "source": []
  },
  {
   "cell_type": "code",
   "execution_count": null,
   "id": "83be0587-1ce9-453a-9906-de78a98705bd",
   "metadata": {},
   "outputs": [],
   "source": []
  },
  {
   "cell_type": "code",
   "execution_count": null,
   "id": "da8bb5c6-fc84-46ce-96de-f6eed95a5f44",
   "metadata": {},
   "outputs": [],
   "source": []
  },
  {
   "cell_type": "code",
   "execution_count": 9,
   "id": "a890f292-81c0-4718-b3e8-a4748c54c23c",
   "metadata": {},
   "outputs": [],
   "source": [
    "def maximumProduct(nums):\n",
    "    nums.sort()\n",
    "    n = len(nums)\n",
    "    p1 = nums[n - 1] * nums[n - 2] * nums[n - 3]\n",
    "    p2 = nums[0] * nums[1] * nums[n - 1]\n",
    "    return max(p1, p2)"
   ]
  },
  {
   "cell_type": "code",
   "execution_count": 10,
   "id": "483eddd0-3a1e-4916-8a25-65a600cd13fa",
   "metadata": {},
   "outputs": [
    {
     "name": "stdout",
     "output_type": "stream",
     "text": [
      "6\n"
     ]
    }
   ],
   "source": [
    "nums = [1, 2, 3]\n",
    "print(maximumProduct(nums))"
   ]
  },
  {
   "cell_type": "code",
   "execution_count": null,
   "id": "77171ba3-4c7f-47d2-82dc-a671c47ca3e7",
   "metadata": {},
   "outputs": [],
   "source": []
  },
  {
   "cell_type": "code",
   "execution_count": null,
   "id": "8fd81285-60bb-4395-9be2-638b69a0ae49",
   "metadata": {},
   "outputs": [],
   "source": []
  },
  {
   "cell_type": "code",
   "execution_count": null,
   "id": "a16d27f6-3394-4545-b26b-79810eaf7d08",
   "metadata": {},
   "outputs": [],
   "source": []
  },
  {
   "cell_type": "code",
   "execution_count": null,
   "id": "bbda6d94-411c-4ab9-8ff1-738339e3c8b9",
   "metadata": {},
   "outputs": [],
   "source": []
  },
  {
   "cell_type": "code",
   "execution_count": 11,
   "id": "c89f1d9d-e262-4440-95af-cc00e3123c9c",
   "metadata": {},
   "outputs": [],
   "source": [
    "def search(nums, target):\n",
    "    left = 0\n",
    "    right = len(nums) - 1\n",
    "\n",
    "    while left <= right:\n",
    "        mid = (left + right) // 2\n",
    "\n",
    "        if nums[mid] == target:\n",
    "            return mid\n",
    "        elif nums[mid] < target:\n",
    "            left = mid + 1\n",
    "        else:\n",
    "            right = mid - 1\n",
    "\n",
    "    return -1"
   ]
  },
  {
   "cell_type": "code",
   "execution_count": 12,
   "id": "8c54bd70-204d-48ea-bd35-761a557dc43f",
   "metadata": {},
   "outputs": [
    {
     "name": "stdout",
     "output_type": "stream",
     "text": [
      "4\n"
     ]
    }
   ],
   "source": [
    "nums = [-1, 0, 3, 5, 9, 12]\n",
    "target = 9\n",
    "print(search(nums, target))"
   ]
  },
  {
   "cell_type": "code",
   "execution_count": null,
   "id": "e71a1e38-d115-4fdc-b891-5c7bd2b29871",
   "metadata": {},
   "outputs": [],
   "source": []
  },
  {
   "cell_type": "code",
   "execution_count": null,
   "id": "c5c10453-24b3-4c58-a3a5-4ccbbd271d6e",
   "metadata": {},
   "outputs": [],
   "source": []
  },
  {
   "cell_type": "code",
   "execution_count": null,
   "id": "f85d6a43-18ab-420e-9717-c65e13f33142",
   "metadata": {},
   "outputs": [],
   "source": []
  },
  {
   "cell_type": "code",
   "execution_count": null,
   "id": "6feba462-5ad5-42e6-bceb-5073a6e5afdf",
   "metadata": {},
   "outputs": [],
   "source": []
  },
  {
   "cell_type": "code",
   "execution_count": 13,
   "id": "daf16c26-2ecb-4b17-85f7-a6f7665eaf74",
   "metadata": {},
   "outputs": [],
   "source": [
    "def isMonotonic(nums):\n",
    "    isIncreasing = True\n",
    "    isDecreasing = True\n",
    "\n",
    "    for i in range(1, len(nums)):\n",
    "        if nums[i] < nums[i - 1]:\n",
    "            isIncreasing = False\n",
    "        if nums[i] > nums[i - 1]:\n",
    "            isDecreasing = False\n",
    "\n",
    "    return isIncreasing or isDecreasing"
   ]
  },
  {
   "cell_type": "code",
   "execution_count": 14,
   "id": "6ac62bbb-afe5-4ee6-bb5d-1f998774a756",
   "metadata": {},
   "outputs": [
    {
     "name": "stdout",
     "output_type": "stream",
     "text": [
      "True\n"
     ]
    }
   ],
   "source": [
    "nums = [1, 2, 2, 3]\n",
    "print(isMonotonic(nums))"
   ]
  },
  {
   "cell_type": "code",
   "execution_count": null,
   "id": "93f42ebd-dd27-4c4a-8e12-3b7542d3f3dd",
   "metadata": {},
   "outputs": [],
   "source": []
  },
  {
   "cell_type": "code",
   "execution_count": null,
   "id": "6c021534-d8c8-40fb-99f8-61777bf3506c",
   "metadata": {},
   "outputs": [],
   "source": []
  },
  {
   "cell_type": "code",
   "execution_count": null,
   "id": "793c4009-57b0-4675-bcdd-8c6ea7892990",
   "metadata": {},
   "outputs": [],
   "source": []
  },
  {
   "cell_type": "code",
   "execution_count": null,
   "id": "c3eeb756-cc23-40b8-a4d0-ce580cc9c89a",
   "metadata": {},
   "outputs": [],
   "source": []
  },
  {
   "cell_type": "code",
   "execution_count": 15,
   "id": "e834ad2f-a7bb-4dcc-ae91-10c68c53af72",
   "metadata": {},
   "outputs": [],
   "source": [
    "def minimumScore(nums, k):\n",
    "    min_num = min(nums)\n",
    "    max_num = max(nums)\n",
    "    \n",
    "    if max_num - min_num <= 2 * k:\n",
    "        return 0\n",
    "    \n",
    "    potential_min = max_num - k * 2\n",
    "    \n",
    "    if potential_min > max_num - k:\n",
    "        return potential_min\n",
    "    \n",
    "    return max_num - k"
   ]
  },
  {
   "cell_type": "code",
   "execution_count": 16,
   "id": "70ec43ea-1cf0-4e1d-9887-901e4098ea52",
   "metadata": {},
   "outputs": [
    {
     "name": "stdout",
     "output_type": "stream",
     "text": [
      "0\n"
     ]
    }
   ],
   "source": [
    "nums = [1]\n",
    "k = 0\n",
    "print(minimumScore(nums, k))"
   ]
  },
  {
   "cell_type": "code",
   "execution_count": null,
   "id": "e708fa57-3221-4eeb-9f44-7c07b4238560",
   "metadata": {},
   "outputs": [],
   "source": []
  }
 ],
 "metadata": {
  "kernelspec": {
   "display_name": "Python 3 (ipykernel)",
   "language": "python",
   "name": "python3"
  },
  "language_info": {
   "codemirror_mode": {
    "name": "ipython",
    "version": 3
   },
   "file_extension": ".py",
   "mimetype": "text/x-python",
   "name": "python",
   "nbconvert_exporter": "python",
   "pygments_lexer": "ipython3",
   "version": "3.10.8"
  }
 },
 "nbformat": 4,
 "nbformat_minor": 5
}
