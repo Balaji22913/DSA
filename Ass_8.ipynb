{
 "cells": [
  {
   "cell_type": "code",
   "execution_count": 1,
   "id": "1279fcb6-2c5c-41ed-827c-04a5d4ecfda9",
   "metadata": {},
   "outputs": [],
   "source": [
    "def minimumDeleteSum(s1, s2):\n",
    "    m, n = len(s1), len(s2)\n",
    "    dp = [[0] * (n + 1) for _ in range(m + 1)]\n",
    "\n",
    "    # Initialize base cases\n",
    "    for i in range(1, m + 1):\n",
    "        dp[i][0] = dp[i - 1][0] + ord(s1[i - 1])\n",
    "    for j in range(1, n + 1):\n",
    "        dp[0][j] = dp[0][j - 1] + ord(s2[j - 1])\n",
    "\n",
    "    # Calculate dp[i][j] for i > 0 and j > 0\n",
    "    for i in range(1, m + 1):\n",
    "        for j in range(1, n + 1):\n",
    "            if s1[i - 1] == s2[j - 1]:\n",
    "                dp[i][j] = dp[i - 1][j - 1]\n",
    "            else:\n",
    "                dp[i][j] = min(dp[i - 1][j] + ord(s1[i - 1]), dp[i][j - 1] + ord(s2[j - 1]))\n",
    "\n",
    "    return dp[m][n]"
   ]
  },
  {
   "cell_type": "code",
   "execution_count": 2,
   "id": "c9d2ab74-90bc-4167-b3db-71dbfc730bb0",
   "metadata": {},
   "outputs": [
    {
     "name": "stdout",
     "output_type": "stream",
     "text": [
      "231\n"
     ]
    }
   ],
   "source": [
    "s1 = \"sea\"\n",
    "s2 = \"eat\"\n",
    "print(minimumDeleteSum(s1, s2))"
   ]
  },
  {
   "cell_type": "code",
   "execution_count": null,
   "id": "4749e70d-c9b0-4d40-806e-ad2d2673703b",
   "metadata": {},
   "outputs": [],
   "source": []
  },
  {
   "cell_type": "code",
   "execution_count": null,
   "id": "81588dd5-5f97-4687-bcb5-386882482a59",
   "metadata": {},
   "outputs": [],
   "source": []
  },
  {
   "cell_type": "code",
   "execution_count": null,
   "id": "450890aa-56b2-45de-961b-80d91661a8fb",
   "metadata": {},
   "outputs": [],
   "source": []
  },
  {
   "cell_type": "code",
   "execution_count": null,
   "id": "c9040855-f145-4536-bedf-58b45874f391",
   "metadata": {},
   "outputs": [],
   "source": []
  },
  {
   "cell_type": "code",
   "execution_count": 3,
   "id": "240540a5-78e9-4c0a-ab62-9287f8e4bc68",
   "metadata": {},
   "outputs": [],
   "source": [
    "def isValid(s):\n",
    "    open_count = 0\n",
    "\n",
    "    # Check from left to right\n",
    "    for c in s:\n",
    "        if c == '(' or c == '*':\n",
    "            open_count += 1\n",
    "        else:\n",
    "            open_count -= 1\n",
    "            if open_count < 0:\n",
    "                return False\n",
    "\n",
    "    open_count = 0\n",
    "\n",
    "    # Check from right to left\n",
    "    for c in reversed(s):\n",
    "        if c == ')' or c == '*':\n",
    "            open_count += 1\n",
    "        else:\n",
    "            open_count -= 1\n",
    "            if open_count < 0:\n",
    "                return False\n",
    "\n",
    "    return True"
   ]
  },
  {
   "cell_type": "code",
   "execution_count": 4,
   "id": "bf438b15-47e7-4a73-a482-1e9f30fddca0",
   "metadata": {},
   "outputs": [
    {
     "name": "stdout",
     "output_type": "stream",
     "text": [
      "True\n"
     ]
    }
   ],
   "source": [
    "s = \"()\"\n",
    "print(isValid(s))"
   ]
  },
  {
   "cell_type": "code",
   "execution_count": null,
   "id": "a3505a2a-2fbb-463b-8b2c-ad7a60757fe9",
   "metadata": {},
   "outputs": [],
   "source": []
  },
  {
   "cell_type": "code",
   "execution_count": null,
   "id": "ece5a610-8d66-445e-b48f-03c3e2c78d93",
   "metadata": {},
   "outputs": [],
   "source": []
  },
  {
   "cell_type": "code",
   "execution_count": null,
   "id": "f2d6e500-4325-45a6-8dc0-48d65883ac17",
   "metadata": {},
   "outputs": [],
   "source": []
  },
  {
   "cell_type": "code",
   "execution_count": null,
   "id": "5470b230-f94d-463e-ae0a-7b571ee6eabe",
   "metadata": {},
   "outputs": [],
   "source": []
  },
  {
   "cell_type": "code",
   "execution_count": 5,
   "id": "a1673ee0-0547-4097-acc8-511a44728460",
   "metadata": {},
   "outputs": [],
   "source": [
    "def minSteps(word1, word2):\n",
    "    m, n = len(word1), len(word2)\n",
    "    dp = [[0] * (n + 1) for _ in range(m + 1)]\n",
    "\n",
    "    # Initialize base cases\n",
    "    for i in range(1, m + 1):\n",
    "        dp[i][0] = i\n",
    "    for j in range(1, n + 1):\n",
    "        dp[0][j] = j\n",
    "\n",
    "    # Calculate dp[i][j] for i > 0 and j > 0\n",
    "    for i in range(1, m + 1):\n",
    "        for j in range(1, n + 1):\n",
    "            if word1[i - 1] == word2[j - 1]:\n",
    "                dp[i][j] = dp[i - 1][j - 1]\n",
    "            else:\n",
    "                dp[i][j] = min(dp[i - 1][j] + 1, dp[i][j - 1] + 1)\n",
    "\n",
    "    return dp[m][n]"
   ]
  },
  {
   "cell_type": "code",
   "execution_count": 6,
   "id": "032211f0-485d-4f8a-9880-9c7a655cbc96",
   "metadata": {},
   "outputs": [
    {
     "name": "stdout",
     "output_type": "stream",
     "text": [
      "2\n"
     ]
    }
   ],
   "source": [
    "word1 = \"sea\"\n",
    "word2 = \"eat\"\n",
    "print(minSteps(word1, word2))"
   ]
  },
  {
   "cell_type": "code",
   "execution_count": null,
   "id": "d83f031c-fbaf-4b51-82e2-94adb3600635",
   "metadata": {},
   "outputs": [],
   "source": []
  },
  {
   "cell_type": "code",
   "execution_count": null,
   "id": "a0b76f2c-e669-42a5-9754-a4da117e5557",
   "metadata": {},
   "outputs": [],
   "source": []
  },
  {
   "cell_type": "code",
   "execution_count": null,
   "id": "ae48a6ba-883e-429b-9c96-7674b0662530",
   "metadata": {},
   "outputs": [],
   "source": []
  },
  {
   "cell_type": "code",
   "execution_count": null,
   "id": "0e36b1b4-6614-403d-b3ec-6f539fa8dde5",
   "metadata": {},
   "outputs": [],
   "source": []
  },
  {
   "cell_type": "code",
   "execution_count": 9,
   "id": "b1800c5b-0e41-43e9-80b8-6ee21903ea89",
   "metadata": {},
   "outputs": [],
   "source": [
    "class TreeNode:\n",
    "    def __init__(self, val=0, left=None, right=None):\n",
    "        self.val = val\n",
    "        self.left = left\n",
    "        self.right = right\n",
    "\n",
    "def constructTree(s):\n",
    "    def parseNumber(s, index):\n",
    "        start = index\n",
    "        while index < len(s) and s[index].isdigit():\n",
    "            index += 1\n",
    "        return int(s[start:index]), index\n",
    "\n",
    "    def constructTreeHelper(s, index):\n",
    "        if index >= len(s) or s[index] == ')':\n",
    "            return None\n",
    "        \n",
    "        value, index = parseNumber(s, index)\n",
    "        node = TreeNode(value)\n",
    "        \n",
    "        if index < len(s) and s[index] == '(':\n",
    "            node.left, index = constructTreeHelper(s, index + 1)\n",
    "        \n",
    "        if index < len(s) and s[index] == '(':\n",
    "            node.right, index = constructTreeHelper(s, index + 1)\n",
    "        \n",
    "        return node\n",
    "    \n",
    "    tree = constructTreeHelper(s, 0)\n",
    "    return tree\n",
    "\n",
    "def inorderTraversal(root):\n",
    "    if not root:\n",
    "        return []\n",
    "    return inorderTraversal(root.left) + [root.val] + inorderTraversal(root.right)"
   ]
  },
  {
   "cell_type": "code",
   "execution_count": null,
   "id": "4c51912c-c0aa-4c01-8357-4a762b825413",
   "metadata": {},
   "outputs": [],
   "source": []
  },
  {
   "cell_type": "code",
   "execution_count": null,
   "id": "90c5307e-55fa-4214-9930-ea3d18a31483",
   "metadata": {},
   "outputs": [],
   "source": []
  },
  {
   "cell_type": "code",
   "execution_count": null,
   "id": "bc8103b1-ed00-4d64-9ae7-4c82f1213ec4",
   "metadata": {},
   "outputs": [],
   "source": []
  },
  {
   "cell_type": "code",
   "execution_count": null,
   "id": "63d06d75-fb1c-4e33-b169-1153384b57d2",
   "metadata": {},
   "outputs": [],
   "source": []
  },
  {
   "cell_type": "code",
   "execution_count": 11,
   "id": "0ba2a1f4-0b81-4a0e-bbec-ccac8df2f905",
   "metadata": {},
   "outputs": [],
   "source": [
    "def compress(chars):\n",
    "    write = 0\n",
    "    count = 1\n",
    "\n",
    "    for read in range(1, len(chars)):\n",
    "        if chars[read] == chars[read - 1]:\n",
    "            count += 1\n",
    "        else:\n",
    "            chars[write] = chars[read - 1]\n",
    "            write += 1\n",
    "            if count > 1:\n",
    "                count_str = str(count)\n",
    "                for digit in count_str:\n",
    "                    chars[write] = digit\n",
    "                    write += 1\n",
    "            count = 1\n",
    "\n",
    "    # Write the last character and its count\n",
    "    chars[write] = chars[-1]\n",
    "    write += 1\n",
    "    if count > 1:\n",
    "        count_str = str(count)\n",
    "        for digit in count_str:\n",
    "            chars[write] = digit\n",
    "            write += 1\n",
    "\n",
    "    return write"
   ]
  },
  {
   "cell_type": "code",
   "execution_count": 12,
   "id": "69c3ed7d-20bd-4132-8e58-d44acd9a977d",
   "metadata": {},
   "outputs": [
    {
     "name": "stdout",
     "output_type": "stream",
     "text": [
      "6\n",
      "['a', '2', 'b', '2', 'c', '3']\n"
     ]
    }
   ],
   "source": [
    "chars = [\"a\", \"a\", \"b\", \"b\", \"c\", \"c\", \"c\"]\n",
    "new_length = compress(chars)\n",
    "compressed_chars = chars[:new_length]\n",
    "\n",
    "print(new_length)  \n",
    "print(compressed_chars)"
   ]
  },
  {
   "cell_type": "code",
   "execution_count": null,
   "id": "a628d3b3-011c-455f-b75b-4841388af925",
   "metadata": {},
   "outputs": [],
   "source": []
  },
  {
   "cell_type": "code",
   "execution_count": null,
   "id": "85dc5eca-5bda-4ffd-aff4-e1ae941f945b",
   "metadata": {},
   "outputs": [],
   "source": []
  },
  {
   "cell_type": "code",
   "execution_count": null,
   "id": "132d5738-2997-4b5c-8e37-a947e00283ce",
   "metadata": {},
   "outputs": [],
   "source": []
  },
  {
   "cell_type": "code",
   "execution_count": null,
   "id": "cbed53c3-8f7f-4e93-8a3b-ae56696a154b",
   "metadata": {},
   "outputs": [],
   "source": []
  },
  {
   "cell_type": "code",
   "execution_count": null,
   "id": "f2d92a10-3f9c-4501-ab3e-e0dfde0d165a",
   "metadata": {},
   "outputs": [],
   "source": []
  },
  {
   "cell_type": "code",
   "execution_count": 13,
   "id": "ba4a70ee-eaf2-483b-a72d-0be591d26b45",
   "metadata": {},
   "outputs": [],
   "source": [
    "from collections import defaultdict\n",
    "\n",
    "def findAnagrams(s, p):\n",
    "    p_freq = defaultdict(int)\n",
    "    window_freq = defaultdict(int)\n",
    "    indices = []\n",
    "\n",
    "    for char in p:\n",
    "        p_freq[char] += 1\n",
    "\n",
    "    left, right = 0, 0\n",
    "    while right < len(s):\n",
    "        window_freq[s[right]] += 1\n",
    "\n",
    "        if right - left + 1 > len(p):\n",
    "            window_freq[s[left]] -= 1\n",
    "            if window_freq[s[left]] == 0:\n",
    "                del window_freq[s[left]]\n",
    "            left += 1\n",
    "\n",
    "        if window_freq == p_freq:\n",
    "            indices.append(left)\n",
    "\n",
    "        right += 1\n",
    "\n",
    "    return indices"
   ]
  },
  {
   "cell_type": "code",
   "execution_count": 14,
   "id": "19b08ba7-7967-4bf5-9202-59232ccf39e6",
   "metadata": {},
   "outputs": [
    {
     "name": "stdout",
     "output_type": "stream",
     "text": [
      "[0, 6]\n"
     ]
    }
   ],
   "source": [
    "s = \"cbaebabacd\"\n",
    "p = \"abc\"\n",
    "print(findAnagrams(s, p))  "
   ]
  },
  {
   "cell_type": "code",
   "execution_count": null,
   "id": "2798897c-f026-444f-a7ac-dbfe4a934d55",
   "metadata": {},
   "outputs": [],
   "source": []
  },
  {
   "cell_type": "code",
   "execution_count": null,
   "id": "cf27d126-b47c-48fb-92e2-56e8cb3b43c6",
   "metadata": {},
   "outputs": [],
   "source": []
  },
  {
   "cell_type": "code",
   "execution_count": null,
   "id": "58714432-fa0f-444f-b1f4-33c2d0d299a4",
   "metadata": {},
   "outputs": [],
   "source": []
  },
  {
   "cell_type": "code",
   "execution_count": null,
   "id": "6ad38819-5e15-4a70-96c0-e0ea1a81cb12",
   "metadata": {},
   "outputs": [],
   "source": []
  },
  {
   "cell_type": "code",
   "execution_count": 20,
   "id": "93f93bad-1aab-4989-b1d7-68e5c28c2a23",
   "metadata": {},
   "outputs": [],
   "source": [
    "def decodeString(s):\n",
    "    stack = []\n",
    "\n",
    "    for c in s:\n",
    "        if c.isdigit():\n",
    "            stack.append(int(c))\n",
    "        elif c == '[':\n",
    "            stack.append('')\n",
    "        elif c == ']':\n",
    "            encoded_str = ''\n",
    "            while stack and not isinstance(stack[-1], int):\n",
    "                encoded_str = stack.pop() + encoded_str\n",
    "            repeat_count = stack.pop()\n",
    "            stack.append(encoded_str * repeat_count)\n",
    "        else:\n",
    "            stack.append(c)\n",
    "\n",
    "    return ''.join(stack)\n"
   ]
  },
  {
   "cell_type": "code",
   "execution_count": 21,
   "id": "76da1aa4-8459-47da-a284-87534baaa398",
   "metadata": {},
   "outputs": [
    {
     "name": "stdout",
     "output_type": "stream",
     "text": [
      "aaabcbc\n"
     ]
    }
   ],
   "source": [
    "s = \"3[a]2[bc]\"\n",
    "print(decodeString(s))  "
   ]
  },
  {
   "cell_type": "code",
   "execution_count": null,
   "id": "d6afad3e-f299-401f-ac70-7b85c6c36279",
   "metadata": {},
   "outputs": [],
   "source": []
  },
  {
   "cell_type": "code",
   "execution_count": null,
   "id": "352504ad-2f32-45ea-bcb6-a4cbbdb32f7d",
   "metadata": {},
   "outputs": [],
   "source": []
  },
  {
   "cell_type": "code",
   "execution_count": null,
   "id": "a1137df3-8f2a-4cc9-b5ed-1d573ce3e597",
   "metadata": {},
   "outputs": [],
   "source": []
  },
  {
   "cell_type": "code",
   "execution_count": null,
   "id": "513c163f-641d-4004-bde5-7c65014dc676",
   "metadata": {},
   "outputs": [],
   "source": []
  },
  {
   "cell_type": "code",
   "execution_count": 22,
   "id": "7ca88e5e-5800-4512-9262-310ade2acaf7",
   "metadata": {},
   "outputs": [],
   "source": [
    "def buddyStrings(s, goal):\n",
    "    if len(s) != len(goal):\n",
    "        return False\n",
    "\n",
    "    diff_indices = []\n",
    "    diff_chars = []\n",
    "\n",
    "    for i in range(len(s)):\n",
    "        if s[i] != goal[i]:\n",
    "            diff_indices.append(i)\n",
    "            diff_chars.extend([s[i], goal[i]])\n",
    "\n",
    "        if len(diff_indices) > 2:\n",
    "            return False\n",
    "\n",
    "    if len(diff_indices) == 0:\n",
    "        # No differences between s and goal, check if s has duplicate characters\n",
    "        return len(set(s)) < len(s)\n",
    "\n",
    "    if len(diff_indices) != 2:\n",
    "        return False\n",
    "\n",
    "    return diff_chars[0] == diff_chars[3] and diff_chars[1] == diff_chars[2]"
   ]
  },
  {
   "cell_type": "code",
   "execution_count": 23,
   "id": "8eeb5a82-e82c-4894-9432-ca1499659bea",
   "metadata": {},
   "outputs": [
    {
     "name": "stdout",
     "output_type": "stream",
     "text": [
      "True\n"
     ]
    }
   ],
   "source": [
    "s = \"ab\"\n",
    "goal = \"ba\"\n",
    "print(buddyStrings(s, goal))"
   ]
  },
  {
   "cell_type": "code",
   "execution_count": null,
   "id": "cdd87dd0-3b20-40dc-b738-4b5aeacafbb9",
   "metadata": {},
   "outputs": [],
   "source": []
  }
 ],
 "metadata": {
  "kernelspec": {
   "display_name": "Python 3 (ipykernel)",
   "language": "python",
   "name": "python3"
  },
  "language_info": {
   "codemirror_mode": {
    "name": "ipython",
    "version": 3
   },
   "file_extension": ".py",
   "mimetype": "text/x-python",
   "name": "python",
   "nbconvert_exporter": "python",
   "pygments_lexer": "ipython3",
   "version": "3.10.8"
  }
 },
 "nbformat": 4,
 "nbformat_minor": 5
}
